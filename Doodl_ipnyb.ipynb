{
  "nbformat": 4,
  "nbformat_minor": 0,
  "metadata": {
    "colab": {
      "provenance": [],
      "machine_shape": "hm",
      "gpuType": "V100",
      "authorship_tag": "ABX9TyOvYYHSoqEAHdH+LQgV8C2w",
      "include_colab_link": true
    },
    "kernelspec": {
      "name": "python3",
      "display_name": "Python 3"
    },
    "language_info": {
      "name": "python"
    },
    "accelerator": "GPU"
  },
  "cells": [
    {
      "cell_type": "markdown",
      "metadata": {
        "id": "view-in-github",
        "colab_type": "text"
      },
      "source": [
        "<a href=\"https://colab.research.google.com/github/Necl0/HTNDoodleProject/blob/main/Doodl_ipnyb.ipynb\" target=\"_parent\"><img src=\"https://colab.research.google.com/assets/colab-badge.svg\" alt=\"Open In Colab\"/></a>"
      ]
    },
    {
      "cell_type": "code",
      "source": [
        "!pip install quickdraw\n",
        "!pip install keras"
      ],
      "metadata": {
        "colab": {
          "base_uri": "https://localhost:8080/"
        },
        "id": "PT8rpP2mpVER",
        "outputId": "41223469-64ab-4293-8ff2-88adfc269fd5"
      },
      "execution_count": null,
      "outputs": [
        {
          "output_type": "stream",
          "name": "stdout",
          "text": [
            "Requirement already satisfied: quickdraw in /usr/local/lib/python3.10/dist-packages (1.0.0)\n",
            "Requirement already satisfied: pillow in /usr/local/lib/python3.10/dist-packages (from quickdraw) (9.4.0)\n",
            "Requirement already satisfied: requests in /usr/local/lib/python3.10/dist-packages (from quickdraw) (2.31.0)\n",
            "Requirement already satisfied: charset-normalizer<4,>=2 in /usr/local/lib/python3.10/dist-packages (from requests->quickdraw) (3.3.2)\n",
            "Requirement already satisfied: idna<4,>=2.5 in /usr/local/lib/python3.10/dist-packages (from requests->quickdraw) (3.6)\n",
            "Requirement already satisfied: urllib3<3,>=1.21.1 in /usr/local/lib/python3.10/dist-packages (from requests->quickdraw) (2.0.7)\n",
            "Requirement already satisfied: certifi>=2017.4.17 in /usr/local/lib/python3.10/dist-packages (from requests->quickdraw) (2023.11.17)\n",
            "Requirement already satisfied: keras in /usr/local/lib/python3.10/dist-packages (2.14.0)\n"
          ]
        }
      ]
    },
    {
      "cell_type": "code",
      "source": [
        "# Import Library\n",
        "import numpy as np\n",
        "import pandas as pd\n",
        "import matplotlib.pyplot as plt\n",
        "from keras.preprocessing.image import ImageDataGenerator, img_to_array, load_img\n",
        "from keras.models import Sequential\n",
        "from keras.layers import Dense\n",
        "from keras.applications.vgg19 import VGG19\n",
        "from quickdraw import QuickDrawDataGroup"
      ],
      "metadata": {
        "id": "75IQ48ueWJyc"
      },
      "execution_count": 85,
      "outputs": []
    },
    {
      "cell_type": "code",
      "source": [
        "max_d = 1001\n",
        "\n",
        "airplanes = QuickDrawDataGroup('airplane', max_drawings=max_d)\n",
        "castle = QuickDrawDataGroup('castle', max_drawings=max_d)\n",
        "dragon = QuickDrawDataGroup('dragon', max_drawings=max_d)\n",
        "duck = QuickDrawDataGroup('duck', max_drawings=max_d)\n",
        "fork = QuickDrawDataGroup('fork', max_drawings=max_d)\n",
        "hexagon = QuickDrawDataGroup('hexagon', max_drawings=max_d)\n",
        "key = QuickDrawDataGroup('key', max_drawings=max_d)\n",
        "mountain = QuickDrawDataGroup('mountain', max_drawings=max_d)\n",
        "pizza = QuickDrawDataGroup('pizza', max_drawings=max_d)\n",
        "star = QuickDrawDataGroup('star', max_drawings=max_d)\n",
        "sun = QuickDrawDataGroup('sun', max_drawings=max_d)\n",
        "tree = QuickDrawDataGroup('tree', max_drawings=max_d)\n",
        "\n",
        "# Define a class-to-number mapping\n",
        "class_mapping = {'airplane': 0, 'castle': 1, 'dragon': 2, 'duck': 3, 'fork': 4,\n",
        "                 'hexagon': 5, 'key': 6, 'mountain': 7, 'pizza': 8, 'star': 9, 'sun': 10, 'tree': 11}\n",
        "\n",
        "# Map class labels to numeric values\n",
        "img_classes = np.array([[class_mapping[drawing.name] for drawing in c.drawings] for c in [airplanes, castle, dragon, duck, fork,\n",
        "                                                                                          hexagon, key, mountain, pizza,\n",
        "                                                                                          star, sun, tree]]).flatten()[:-12]\n",
        "\n",
        "img_data = np.array([[np.array(drawing.get_image().resize((224, 224)).convert('L')) for drawing in c.drawings] for c in\n",
        "                     [airplanes, castle, dragon,\n",
        "                      duck, fork, hexagon,\n",
        "                      key, mountain,\n",
        "                      pizza, star,\n",
        "                      sun, tree]]\n",
        "                    )\n",
        "\n",
        "img_data = img_data.reshape((img_data.shape[0] * img_data.shape[1],) + img_data.shape[2:])\n",
        "print(\"Data loaded!\")"
      ],
      "metadata": {
        "colab": {
          "base_uri": "https://localhost:8080/"
        },
        "id": "IRugDqDKWfMn",
        "outputId": "837c30c0-9236-44d4-80c6-3624a6ca2706"
      },
      "execution_count": 86,
      "outputs": [
        {
          "output_type": "stream",
          "name": "stdout",
          "text": [
            "loading airplane drawings\n",
            "load complete\n",
            "loading castle drawings\n",
            "load complete\n",
            "loading dragon drawings\n",
            "load complete\n",
            "loading duck drawings\n",
            "load complete\n",
            "loading fork drawings\n",
            "load complete\n",
            "loading hexagon drawings\n",
            "load complete\n",
            "loading key drawings\n",
            "load complete\n",
            "loading mountain drawings\n",
            "load complete\n",
            "loading pizza drawings\n",
            "load complete\n",
            "loading star drawings\n",
            "load complete\n",
            "loading sun drawings\n",
            "load complete\n",
            "loading tree drawings\n",
            "load complete\n",
            "Data loaded!\n"
          ]
        }
      ]
    },
    {
      "cell_type": "code",
      "source": [
        "print(img_classes.shape)\n",
        "print(img_data.shape)"
      ],
      "metadata": {
        "colab": {
          "base_uri": "https://localhost:8080/"
        },
        "id": "GKyJPD9gBc-q",
        "outputId": "f8d761f1-8983-49a5-b3dd-67e80d0ae2b8"
      },
      "execution_count": 87,
      "outputs": [
        {
          "output_type": "stream",
          "name": "stdout",
          "text": [
            "(12000,)\n",
            "(12000, 224, 224)\n"
          ]
        }
      ]
    },
    {
      "cell_type": "code",
      "source": [
        "from sklearn.model_selection import train_test_split\n",
        "\n",
        "# split data into training and testing\n",
        "x_train, x_test, y_train, y_test = train_test_split(\n",
        "    img_data,\n",
        "    img_classes,\n",
        "    test_size=0.2,\n",
        "    random_state=42,\n",
        "    shuffle=True\n",
        ")\n"
      ],
      "metadata": {
        "id": "Q4nknIciWqoL"
      },
      "execution_count": 88,
      "outputs": []
    },
    {
      "cell_type": "code",
      "source": [
        "print(x_train.shape, x_test.shape, y_train.shape, y_test.shape)"
      ],
      "metadata": {
        "colab": {
          "base_uri": "https://localhost:8080/"
        },
        "id": "gia7rnydoFif",
        "outputId": "cab4e9fa-fa5d-4ea1-d19d-2b7bb918d4e0"
      },
      "execution_count": 89,
      "outputs": [
        {
          "output_type": "stream",
          "name": "stdout",
          "text": [
            "(9600, 224, 224) (2400, 224, 224) (9600,) (2400,)\n"
          ]
        }
      ]
    },
    {
      "cell_type": "code",
      "source": [
        "# Add an extra dimension of size 3 to each array\n",
        "x_train = np.expand_dims(x_train, axis=-1)\n",
        "x_train = np.repeat(x_train, 3, axis=-1)\n",
        "\n",
        "x_test = np.expand_dims(x_test, axis=-1)\n",
        "x_test = np.repeat(x_test, 3, axis=-1)\n",
        "\n",
        "\n",
        "print(\"Updated shapes:\")\n",
        "print(\"x_train:\", x_train.shape)\n",
        "print(\"x_test:\", x_test.shape)\n",
        "print(\"y_train:\", y_train.shape)\n",
        "print(\"y_test:\", y_test.shape)"
      ],
      "metadata": {
        "colab": {
          "base_uri": "https://localhost:8080/"
        },
        "id": "BPGp5XzRQ7iT",
        "outputId": "6b015fbb-babd-4ae2-cc54-f37ea4dd8494"
      },
      "execution_count": 90,
      "outputs": [
        {
          "output_type": "stream",
          "name": "stdout",
          "text": [
            "Updated shapes:\n",
            "x_train: (9600, 224, 224, 3)\n",
            "x_test: (2400, 224, 224, 3)\n",
            "y_train: (9600,)\n",
            "y_test: (2400,)\n"
          ]
        }
      ]
    },
    {
      "cell_type": "code",
      "source": [
        "import numpy as np\n",
        "from keras.preprocessing.image import ImageDataGenerator\n",
        "from keras.applications.vgg19 import VGG19, preprocess_input\n",
        "from keras.layers import Dense, GlobalAveragePooling2D\n",
        "from keras.models import Model\n",
        "from keras.optimizers import Adam\n",
        "\n",
        "# Load VGG19 model without top layers\n",
        "base_model = VGG19(weights='imagenet', include_top=False, input_shape=(224, 224, 3))\n",
        "\n",
        "# Add custom top layers\n",
        "x = base_model.output\n",
        "x = GlobalAveragePooling2D()(x)\n",
        "x = Dense(1024, activation='relu')(x)\n",
        "predictions = Dense(12, activation='softmax')(x)\n",
        "\n",
        "# Create the model\n",
        "model = Model(inputs=base_model.input, outputs=predictions)\n",
        "\n",
        "# Freeze the layers of the pre-trained model\n",
        "for layer in base_model.layers:\n",
        "    layer.trainable = False\n",
        "\n",
        "# Compile the model\n",
        "model.compile(optimizer=Adam(), loss='sparse_categorical_crossentropy', metrics=['accuracy'])\n",
        "\n",
        "# Create an ImageDataGenerator for data augmentation\n",
        "datagen = ImageDataGenerator(\n",
        "    rotation_range=20,\n",
        "    width_shift_range=0.2,\n",
        "    height_shift_range=0.2,\n",
        "    shear_range=0.2,\n",
        "    zoom_range=0.2,\n",
        "    horizontal_flip=True,\n",
        "    fill_mode='nearest'\n",
        ")"
      ],
      "metadata": {
        "id": "jjvndVJVoy3a"
      },
      "execution_count": 91,
      "outputs": []
    },
    {
      "cell_type": "code",
      "source": [
        "print(x_train.shape, x_test.shape, y_train.shape, y_test.shape)"
      ],
      "metadata": {
        "colab": {
          "base_uri": "https://localhost:8080/"
        },
        "id": "KY0usy3Uzs-I",
        "outputId": "123f7729-1419-4759-d3d4-0ecf3363c131"
      },
      "execution_count": 92,
      "outputs": [
        {
          "output_type": "stream",
          "name": "stdout",
          "text": [
            "(9600, 224, 224, 3) (2400, 224, 224, 3) (9600,) (2400,)\n"
          ]
        }
      ]
    },
    {
      "cell_type": "code",
      "source": [
        "# Train the model\n",
        "batch_size = 32\n",
        "epochs = 20\n",
        "\n",
        "model.fit(\n",
        "    x=x_train,\n",
        "    y=y_train,\n",
        "    batch_size=batch_size,\n",
        "    epochs=epochs,\n",
        "    validation_data=(x_test, y_test)\n",
        ")"
      ],
      "metadata": {
        "colab": {
          "base_uri": "https://localhost:8080/"
        },
        "id": "k5H-34WkuSxX",
        "outputId": "2f8d6f79-1b94-4e9a-cefb-9d1e657a455f"
      },
      "execution_count": 93,
      "outputs": [
        {
          "output_type": "stream",
          "name": "stdout",
          "text": [
            "Epoch 1/20\n",
            "300/300 [==============================] - 28s 58ms/step - loss: 0.7162 - accuracy: 0.8097 - val_loss: 0.5364 - val_accuracy: 0.8575\n",
            "Epoch 2/20\n",
            "300/300 [==============================] - 16s 55ms/step - loss: 0.3909 - accuracy: 0.8886 - val_loss: 0.5230 - val_accuracy: 0.8554\n",
            "Epoch 3/20\n",
            "300/300 [==============================] - 16s 55ms/step - loss: 0.2946 - accuracy: 0.9136 - val_loss: 0.4905 - val_accuracy: 0.8679\n",
            "Epoch 4/20\n",
            "300/300 [==============================] - 16s 55ms/step - loss: 0.2413 - accuracy: 0.9297 - val_loss: 0.5335 - val_accuracy: 0.8612\n",
            "Epoch 5/20\n",
            "300/300 [==============================] - 16s 55ms/step - loss: 0.2002 - accuracy: 0.9397 - val_loss: 0.5072 - val_accuracy: 0.8779\n",
            "Epoch 6/20\n",
            "300/300 [==============================] - 16s 55ms/step - loss: 0.1581 - accuracy: 0.9485 - val_loss: 0.5383 - val_accuracy: 0.8625\n",
            "Epoch 7/20\n",
            "300/300 [==============================] - 17s 55ms/step - loss: 0.1373 - accuracy: 0.9529 - val_loss: 0.5781 - val_accuracy: 0.8654\n",
            "Epoch 8/20\n",
            "300/300 [==============================] - 17s 55ms/step - loss: 0.1246 - accuracy: 0.9619 - val_loss: 0.6031 - val_accuracy: 0.8692\n",
            "Epoch 9/20\n",
            "300/300 [==============================] - 17s 55ms/step - loss: 0.0990 - accuracy: 0.9700 - val_loss: 0.6052 - val_accuracy: 0.8617\n",
            "Epoch 10/20\n",
            "300/300 [==============================] - 17s 55ms/step - loss: 0.0836 - accuracy: 0.9735 - val_loss: 0.6290 - val_accuracy: 0.8763\n",
            "Epoch 11/20\n",
            "300/300 [==============================] - 17s 55ms/step - loss: 0.0541 - accuracy: 0.9822 - val_loss: 0.6633 - val_accuracy: 0.8667\n",
            "Epoch 12/20\n",
            "300/300 [==============================] - 16s 55ms/step - loss: 0.0472 - accuracy: 0.9850 - val_loss: 0.6756 - val_accuracy: 0.8679\n",
            "Epoch 13/20\n",
            "300/300 [==============================] - 17s 55ms/step - loss: 0.0550 - accuracy: 0.9809 - val_loss: 0.7990 - val_accuracy: 0.8487\n",
            "Epoch 14/20\n",
            "300/300 [==============================] - 17s 55ms/step - loss: 0.0668 - accuracy: 0.9785 - val_loss: 0.9574 - val_accuracy: 0.8458\n",
            "Epoch 15/20\n",
            "300/300 [==============================] - 17s 55ms/step - loss: 0.0853 - accuracy: 0.9729 - val_loss: 0.7642 - val_accuracy: 0.8629\n",
            "Epoch 16/20\n",
            "300/300 [==============================] - 17s 55ms/step - loss: 0.0522 - accuracy: 0.9817 - val_loss: 0.8712 - val_accuracy: 0.8675\n",
            "Epoch 17/20\n",
            "300/300 [==============================] - 17s 55ms/step - loss: 0.0313 - accuracy: 0.9896 - val_loss: 0.8145 - val_accuracy: 0.8708\n",
            "Epoch 18/20\n",
            "300/300 [==============================] - 17s 55ms/step - loss: 0.0169 - accuracy: 0.9952 - val_loss: 0.7625 - val_accuracy: 0.8875\n",
            "Epoch 19/20\n",
            "300/300 [==============================] - 17s 55ms/step - loss: 0.0065 - accuracy: 0.9993 - val_loss: 0.7867 - val_accuracy: 0.8867\n",
            "Epoch 20/20\n",
            "300/300 [==============================] - 17s 55ms/step - loss: 0.0033 - accuracy: 0.9993 - val_loss: 0.8602 - val_accuracy: 0.8854\n"
          ]
        },
        {
          "output_type": "execute_result",
          "data": {
            "text/plain": [
              "<keras.src.callbacks.History at 0x796b186d1ba0>"
            ]
          },
          "metadata": {},
          "execution_count": 93
        }
      ]
    },
    {
      "cell_type": "code",
      "source": [
        "import pickle\n",
        "with open('HTNDoodl.pkl', 'wb') as file:\n",
        "    pickle.dump({'model': model}, file)"
      ],
      "metadata": {
        "id": "2yOFjQRjXPZs"
      },
      "execution_count": 97,
      "outputs": []
    }
  ]
}
